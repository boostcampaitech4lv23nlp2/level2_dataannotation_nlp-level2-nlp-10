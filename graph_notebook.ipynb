{
 "cells": [
  {
   "cell_type": "markdown",
   "id": "992b4c35",
   "metadata": {
    "toc": true
   },
   "source": [
    "<h1>Table of Contents<span class=\"tocSkip\"></span></h1>\n",
    "<div class=\"toc\"><ul class=\"toc-item\"><li><span><a href=\"#위젯-설치\" data-toc-modified-id=\"위젯-설치-1\"><span class=\"toc-item-num\">1&nbsp;&nbsp;</span>위젯 설치</a></span></li><li><span><a href=\"#필요-라이브러리\" data-toc-modified-id=\"필요-라이브러리-2\"><span class=\"toc-item-num\">2&nbsp;&nbsp;</span>필요 라이브러리</a></span></li><li><span><a href=\"#File-선택\" data-toc-modified-id=\"File-선택-3\"><span class=\"toc-item-num\">3&nbsp;&nbsp;</span>File 선택</a></span></li><li><span><a href=\"#그래프-plotting\" data-toc-modified-id=\"그래프-plotting-4\"><span class=\"toc-item-num\">4&nbsp;&nbsp;</span>그래프 plotting</a></span></li></ul></div>"
   ]
  },
  {
   "cell_type": "markdown",
   "id": "06f49ff3",
   "metadata": {},
   "source": [
    "# 위젯 설치"
   ]
  },
  {
   "cell_type": "code",
   "execution_count": null,
   "id": "d3eda75f",
   "metadata": {
    "scrolled": true
   },
   "outputs": [],
   "source": [
    "!pip install ipywidgets\n",
    "!jupyter nbextension enable --py widgetsnbextension"
   ]
  },
  {
   "cell_type": "markdown",
   "id": "114bac00",
   "metadata": {},
   "source": [
    "# 필요 라이브러리"
   ]
  },
  {
   "cell_type": "code",
   "execution_count": null,
   "id": "606715fc",
   "metadata": {},
   "outputs": [],
   "source": [
    "import pandas as pd\n",
    "import numpy as np\n",
    "import seaborn as sns\n",
    "import matplotlib.pyplot as plt\n",
    "from IPython.display import display,Markdown,clear_output\n",
    "import ipywidgets as widgets"
   ]
  },
  {
   "cell_type": "code",
   "execution_count": null,
   "id": "125267d3",
   "metadata": {},
   "outputs": [],
   "source": [
    "from matplotlib import font_manager, rc\n",
    "import platform\n",
    "\n",
    "if platform.system() == 'Windows':\n",
    "    rc('font', family = 'Malgun Gothic')\n",
    "elif platform.system() == 'Darwin':\n",
    "    rc('font', famaily = 'AppleGothic')\n",
    "else:\n",
    "    rc('font', family = 'NanumGothic')"
   ]
  },
  {
   "cell_type": "markdown",
   "id": "a4f73027",
   "metadata": {},
   "source": [
    "# File 선택"
   ]
  },
  {
   "cell_type": "markdown",
   "id": "4547e02e",
   "metadata": {},
   "source": [
    "- 아래 셀을 실행하면 파일을 선택할 수 있는 메뉴가 나옵니다.\n",
    "---\n",
    "- 메뉴에서 **Ctrl + 클릭**을 사용하여 **\"./result\" 경로 아래**에 있는 labeling된 파일을 모두 선택합니다.\n",
    "---\n",
    "- 파일을 선택한 후에 **다시 해당 셀을 실행하지 않아도 됩니다.** \n",
    "- 바로 그 다음 셀을 실행하면 그래프가 나옵니다.\n",
    "---"
   ]
  },
  {
   "cell_type": "code",
   "execution_count": null,
   "id": "0d6678b6",
   "metadata": {},
   "outputs": [],
   "source": [
    "selection = widgets.SelectMultiple(\n",
    "    options=['강대국', '개전', '공산주의', '공수', '나치', '냉전', '독일', '미국', '사상', '세계대전', '소련',\n",
    "            '수용소', '승리', '아프리카', '암호', '연합국', '유대인', '유엔', '일본', '자유주의', '전쟁',\n",
    "            '제1차세계대전', '중국', '중립국', '추축국', '패배', '항공', '핵무기', '홀로코스트'],\n",
    "    rows=29,\n",
    "    description='Choose files',\n",
    "    disabled=False\n",
    ")\n",
    "selection"
   ]
  },
  {
   "cell_type": "markdown",
   "id": "cdd15833",
   "metadata": {},
   "source": [
    "# 그래프 plotting"
   ]
  },
  {
   "cell_type": "code",
   "execution_count": null,
   "id": "835070df",
   "metadata": {
    "scrolled": false
   },
   "outputs": [],
   "source": [
    "temp = pd.DataFrame({'Id':[], 'sentence': [], 'subj_entity_type': [], 'obj_entity_type':[], 'label': []})\n",
    "for file_name in selection.value:\n",
    "    df = pd.read_csv('./result/sheet_{}.csv'.format(file_name))\n",
    "    temp = pd.concat([temp,df], ignore_index = True)\n",
    "    plt.subplots(figsize = (6,6))\n",
    "    sns.set(font='Malgun Gothic', rc={'axes.unicode_minus':False}, style='darkgrid')\n",
    "    ax = sns.countplot(y = df['label'], orient = 'h', order = df['label'].value_counts().index)\n",
    "    ax.bar_label(ax.containers[0])\n",
    "    ax.set_title(\"{} - 라벨링한 문장의 개수: {}\".format(file_name, sum(df['label'].value_counts())))\n",
    "    plt.show()\n",
    "    \n",
    "plt.subplots(figsize = (6,6))\n",
    "sns.set(font='Malgun Gothic', rc={'axes.unicode_minus':False}, style='darkgrid')\n",
    "ax = sns.countplot(y = temp['label'], orient = 'h', order = temp['label'].value_counts().index)\n",
    "ax.bar_label(ax.containers[0])\n",
    "ax.set_title(\"전체 라벨링한 문장의 개수: {}\".format(sum(temp['label'].value_counts())))\n",
    "plt.show()"
   ]
  }
 ],
 "metadata": {
  "kernelspec": {
   "display_name": "Python 3 (ipykernel)",
   "language": "python",
   "name": "python3"
  },
  "language_info": {
   "codemirror_mode": {
    "name": "ipython",
    "version": 3
   },
   "file_extension": ".py",
   "mimetype": "text/x-python",
   "name": "python",
   "nbconvert_exporter": "python",
   "pygments_lexer": "ipython3",
   "version": "3.9.13"
  },
  "toc": {
   "base_numbering": 1,
   "nav_menu": {},
   "number_sections": true,
   "sideBar": true,
   "skip_h1_title": false,
   "title_cell": "Table of Contents",
   "title_sidebar": "Contents",
   "toc_cell": true,
   "toc_position": {},
   "toc_section_display": true,
   "toc_window_display": false
  }
 },
 "nbformat": 4,
 "nbformat_minor": 5
}
